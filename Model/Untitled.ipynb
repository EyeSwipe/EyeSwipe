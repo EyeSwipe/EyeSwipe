{
 "cells": [
  {
   "cell_type": "code",
   "execution_count": 1,
   "metadata": {},
   "outputs": [],
   "source": [
    "import tensorflow as tf\n",
    "from tensorflow import keras\n",
    "from tensorflow.keras import layers\n",
    "\n",
    "from model_helper import *"
   ]
  },
  {
   "cell_type": "code",
   "execution_count": 2,
   "metadata": {},
   "outputs": [],
   "source": [
    "test_seq_len = 10\n",
    "input_shape = [20, 30, 3]\n",
    "\n",
    "test_input_left = tf.uniform.random([test_seq_len] + input_shape)\n",
    "test_input_right = tf.uniform.random([test_seq_len] + input_shape)"
   ]
  },
  {
   "cell_type": "code",
   "execution_count": 3,
   "metadata": {},
   "outputs": [
    {
     "name": "stdout",
     "output_type": "stream",
     "text": [
      "Model: \"sequential\"\n",
      "_________________________________________________________________\n",
      "Layer (type)                 Output Shape              Param #   \n",
      "=================================================================\n",
      "conv2d (Conv2D)              (None, 14, 24, 30)        4440      \n",
      "_________________________________________________________________\n",
      "conv2d_1 (Conv2D)            (None, 12, 22, 15)        4065      \n",
      "_________________________________________________________________\n",
      "conv2d_2 (Conv2D)            (None, 5, 10, 15)         2040      \n",
      "_________________________________________________________________\n",
      "conv2d_3 (Conv2D)            (None, 3, 8, 30)          4080      \n",
      "=================================================================\n",
      "Total params: 14,625\n",
      "Trainable params: 14,625\n",
      "Non-trainable params: 0\n",
      "_________________________________________________________________\n"
     ]
    }
   ],
   "source": [
    "img_process = keras.Sequential([\n",
    "    layers.Conv2D(30, (7, 7), activation='relu', input_shape=input_shape),\n",
    "    # shape = (14, 24, 30)\n",
    "    layers.Conv2D(15, (3, 3), activation='relu'),\n",
    "    # shape = (12, 22, 15)\n",
    "    # pool\n",
    "    layers.Conv2D(15, (3, 3), strides=(2, 2), activation='relu'),\n",
    "    # shape = (5, 10, 15)\n",
    "    layers.Conv2D(30, (3, 3), activation='relu'),\n",
    "    # shape = (3, 8, 30)\n",
    "])\n",
    "\n",
    "img_process.summary()"
   ]
  },
  {
   "cell_type": "code",
   "execution_count": null,
   "metadata": {},
   "outputs": [],
   "source": [
    "processed_left = img_process(test_input_left)\n",
    "processed_right = img_process(test_input_right)"
   ]
  },
  {
   "cell_type": "code",
   "execution_count": 4,
   "metadata": {},
   "outputs": [
    {
     "name": "stdout",
     "output_type": "stream",
     "text": [
      "Model: \"model\"\n",
      "__________________________________________________________________________________________________\n",
      "Layer (type)                    Output Shape         Param #     Connected to                     \n",
      "==================================================================================================\n",
      "input_1 (InputLayer)            [(None, 3, 8, 30)]   0                                            \n",
      "__________________________________________________________________________________________________\n",
      "input_2 (InputLayer)            [(None, 3, 8, 30)]   0                                            \n",
      "__________________________________________________________________________________________________\n",
      "flatten (Flatten)               (None, 720)          0           input_1[0][0]                    \n",
      "__________________________________________________________________________________________________\n",
      "flatten_1 (Flatten)             (None, 720)          0           input_2[0][0]                    \n",
      "__________________________________________________________________________________________________\n",
      "concat (TensorFlowOpLayer)      [(None, 1440)]       0           flatten[0][0]                    \n",
      "                                                                 flatten_1[0][0]                  \n",
      "__________________________________________________________________________________________________\n",
      "ExpandDims (TensorFlowOpLayer)  [(None, 1, 1440)]    0           concat[0][0]                     \n",
      "__________________________________________________________________________________________________\n",
      "ReverseV2 (TensorFlowOpLayer)   [(None, 1, 1440)]    0           ExpandDims[0][0]                 \n",
      "__________________________________________________________________________________________________\n",
      "unified_lstm_1 (UnifiedLSTM)    (None, 1, 40)        236960      ReverseV2[0][0]                  \n",
      "__________________________________________________________________________________________________\n",
      "unified_lstm (UnifiedLSTM)      (None, 1, 40)        236960      ExpandDims[0][0]                 \n",
      "__________________________________________________________________________________________________\n",
      "concat_pool_1 (ConcatPool)      (None, 1, 80)        0           unified_lstm_1[0][0]             \n",
      "__________________________________________________________________________________________________\n",
      "concat_pool (ConcatPool)        (None, 1, 80)        0           unified_lstm[0][0]               \n",
      "__________________________________________________________________________________________________\n",
      "unified_lstm_3 (UnifiedLSTM)    (None, 1, 40)        19360       concat_pool_1[0][0]              \n",
      "__________________________________________________________________________________________________\n",
      "unified_lstm_2 (UnifiedLSTM)    (None, 1, 40)        19360       concat_pool[0][0]                \n",
      "__________________________________________________________________________________________________\n",
      "concat_pool_3 (ConcatPool)      (None, 1, 80)        0           unified_lstm_3[0][0]             \n",
      "__________________________________________________________________________________________________\n",
      "concat_pool_2 (ConcatPool)      (None, 1, 80)        0           unified_lstm_2[0][0]             \n",
      "__________________________________________________________________________________________________\n",
      "unified_lstm_5 (UnifiedLSTM)    (None, 1, 40)        19360       concat_pool_3[0][0]              \n",
      "__________________________________________________________________________________________________\n",
      "unified_lstm_4 (UnifiedLSTM)    (None, 1, 40)        19360       concat_pool_2[0][0]              \n",
      "__________________________________________________________________________________________________\n",
      "concat_pool_5 (ConcatPool)      (None, 1, 80)        0           unified_lstm_5[0][0]             \n",
      "__________________________________________________________________________________________________\n",
      "concat_pool_4 (ConcatPool)      (None, 1, 80)        0           unified_lstm_4[0][0]             \n",
      "__________________________________________________________________________________________________\n",
      "unified_lstm_7 (UnifiedLSTM)    (None, 1, 20)        8080        concat_pool_5[0][0]              \n",
      "__________________________________________________________________________________________________\n",
      "unified_lstm_6 (UnifiedLSTM)    (None, 1, 20)        8080        concat_pool_4[0][0]              \n",
      "__________________________________________________________________________________________________\n",
      "ReverseV2_1 (TensorFlowOpLayer) [(None, 1, 20)]      0           unified_lstm_7[0][0]             \n",
      "__________________________________________________________________________________________________\n",
      "concat_1 (TensorFlowOpLayer)    [(None, 1, 40)]      0           unified_lstm_6[0][0]             \n",
      "                                                                 ReverseV2_1[0][0]                \n",
      "==================================================================================================\n",
      "Total params: 567,520\n",
      "Trainable params: 567,520\n",
      "Non-trainable params: 0\n",
      "__________________________________________________________________________________________________\n"
     ]
    }
   ],
   "source": [
    "dsbrnn_input_shape = img_process.layers[-1].output_shape[1:]\n",
    "dsbrnn = DeepStackedBiRNNBuilder(dsbrnn_input_shape)\n",
    "dsbrnn.add(40, output_pooling=2).repeat(2)\n",
    "dsbrnn.add(20)\n",
    "dsbrnn = dsbrnn.build()\n",
    "\n",
    "dsbrnn.summary()"
   ]
  },
  {
   "cell_type": "code",
   "execution_count": null,
   "metadata": {},
   "outputs": [],
   "source": []
  }
 ],
 "metadata": {
  "kernelspec": {
   "display_name": "Python 3",
   "language": "python",
   "name": "python3"
  },
  "language_info": {
   "codemirror_mode": {
    "name": "ipython",
    "version": 3
   },
   "file_extension": ".py",
   "mimetype": "text/x-python",
   "name": "python",
   "nbconvert_exporter": "python",
   "pygments_lexer": "ipython3",
   "version": "3.6.8"
  }
 },
 "nbformat": 4,
 "nbformat_minor": 2
}
